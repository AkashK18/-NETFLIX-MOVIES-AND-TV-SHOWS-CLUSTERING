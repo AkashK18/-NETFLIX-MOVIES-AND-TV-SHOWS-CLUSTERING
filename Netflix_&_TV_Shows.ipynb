{
  "nbformat": 4,
  "nbformat_minor": 0,
  "metadata": {
    "colab": {
      "provenance": [],
      "authorship_tag": "ABX9TyPLBpjg68F9UIWysUXELOPn",
      "include_colab_link": true
    },
    "kernelspec": {
      "name": "python3",
      "display_name": "Python 3"
    },
    "language_info": {
      "name": "python"
    }
  },
  "cells": [
    {
      "cell_type": "markdown",
      "metadata": {
        "id": "view-in-github",
        "colab_type": "text"
      },
      "source": [
        "<a href=\"https://colab.research.google.com/github/AkashK18/-NETFLIX-MOVIES-AND-TV-SHOWS-CLUSTERING/blob/main/Netflix_%26_TV_Shows.ipynb\" target=\"_parent\"><img src=\"https://colab.research.google.com/assets/colab-badge.svg\" alt=\"Open In Colab\"/></a>"
      ]
    },
    {
      "cell_type": "markdown",
      "source": [
        "# **Problem Statement**\n",
        "\n",
        "This dataset consists of tv shows and movies available on Netflix as of 2019. The dataset is collected from Flixable which is a third-party Netflix search engine.\n",
        "\n",
        "In 2018, they released an interesting report which shows that the number of TV shows on Netflix has nearly tripled since 2010. The streaming service’s number of movies has decreased by more than 2,000 titles since 2010, while its number of TV shows has nearly tripled. It will be interesting to explore what all other insights can be obtained from the same dataset.\n",
        "\n",
        "Integrating this dataset with other external datasets such as IMDB ratings, rotten tomatoes can also provide many interesting findings."
      ],
      "metadata": {
        "id": "eE7Rlk18lh6Y"
      }
    },
    {
      "cell_type": "markdown",
      "source": [
        " **In this project, you are required to do**\n",
        "\n",
        "1. Exploratory Data Analysis\n",
        "\n",
        "2. Understanding what type content is available in different countries\n",
        "\n",
        "3. Is Netflix has increasingly focusing on TV rather than movies in recent years.\n",
        "\n",
        "4. Clustering similar content by matching text-based features"
      ],
      "metadata": {
        "id": "50o_S___l1lG"
      }
    },
    {
      "cell_type": "markdown",
      "source": [
        "**Attribute Information**\n",
        "\n",
        "1. show_id : Unique ID for every Movie / Tv Show\n",
        "\n",
        "2. type : Identifier - A Movie or TV Show\n",
        "\n",
        "3. title : Title of the Movie / Tv Show\n",
        "\n",
        "4. director : Director of the Movie\n",
        "\n",
        "5. cast : Actors involved in the movie / show\n",
        "\n",
        "6. country : Country where the movie / show was produced\n",
        "\n",
        "7. date_added : Date it was added on Netflix\n",
        "\n",
        "8. release_year : Actual Releaseyear of the movie / show\n",
        "\n",
        "9. rating : TV Rating of the movie / show\n",
        "\n",
        "10. duration : Total Duration - in minutes or number of seasons\n",
        "\n",
        "11. listed_in : Genere\n",
        "\n",
        "12. description: The Summary description"
      ],
      "metadata": {
        "id": "ooUnQ1hhmEmu"
      }
    },
    {
      "cell_type": "markdown",
      "source": [
        "# **Importing Libraries**"
      ],
      "metadata": {
        "id": "zbxHE8mJmc9J"
      }
    },
    {
      "cell_type": "code",
      "source": [
        "# Importing basic libraries\n",
        "import pandas as pd\n",
        "import numpy as np\n",
        "\n",
        "# importing libraries for visualization\n",
        "import matplotlib.pyplot as plt\n",
        "%matplotlib inline\n",
        "import seaborn as sns\n",
        "\n",
        "import warnings\n",
        "warnings.filterwarnings(action='ignore')"
      ],
      "metadata": {
        "id": "gvIYFjo_mczw"
      },
      "execution_count": 1,
      "outputs": []
    },
    {
      "cell_type": "markdown",
      "source": [
        "**Mounting drive and Loading Dataset**"
      ],
      "metadata": {
        "id": "9nqkUVbooOWP"
      }
    },
    {
      "cell_type": "code",
      "source": [
        "from google.colab import drive\n",
        "drive.mount('/content/drive')"
      ],
      "metadata": {
        "colab": {
          "base_uri": "https://localhost:8080/"
        },
        "id": "q4Roh0Lgmcw2",
        "outputId": "9ea241e3-1c9c-4661-d869-c9a661cbf416"
      },
      "execution_count": 2,
      "outputs": [
        {
          "output_type": "stream",
          "name": "stdout",
          "text": [
            "Mounted at /content/drive\n"
          ]
        }
      ]
    },
    {
      "cell_type": "code",
      "source": [
        "df = pd.read_csv('/content/drive/MyDrive/Projects/NETFLIX MOVIES AND TV SHOWS CLUSTERING.csv')"
      ],
      "metadata": {
        "id": "9jEEi0GsmcuK"
      },
      "execution_count": 3,
      "outputs": []
    },
    {
      "cell_type": "markdown",
      "source": [
        "**Looking and understanding about all the aspects of dataset.**"
      ],
      "metadata": {
        "id": "w3Z9NMVIp5WM"
      }
    },
    {
      "cell_type": "code",
      "source": [
        "df.head()"
      ],
      "metadata": {
        "colab": {
          "base_uri": "https://localhost:8080/",
          "height": 424
        },
        "id": "9QSlWgoNmcrd",
        "outputId": "913fce77-44d0-4690-9bef-1676846586df"
      },
      "execution_count": 4,
      "outputs": [
        {
          "output_type": "execute_result",
          "data": {
            "text/plain": [
              "  show_id     type  title           director  \\\n",
              "0      s1  TV Show     3%                NaN   \n",
              "1      s2    Movie   7:19  Jorge Michel Grau   \n",
              "2      s3    Movie  23:59       Gilbert Chan   \n",
              "3      s4    Movie      9        Shane Acker   \n",
              "4      s5    Movie     21     Robert Luketic   \n",
              "\n",
              "                                                cast        country  \\\n",
              "0  João Miguel, Bianca Comparato, Michel Gomes, R...         Brazil   \n",
              "1  Demián Bichir, Héctor Bonilla, Oscar Serrano, ...         Mexico   \n",
              "2  Tedd Chan, Stella Chung, Henley Hii, Lawrence ...      Singapore   \n",
              "3  Elijah Wood, John C. Reilly, Jennifer Connelly...  United States   \n",
              "4  Jim Sturgess, Kevin Spacey, Kate Bosworth, Aar...  United States   \n",
              "\n",
              "          date_added  release_year rating   duration  \\\n",
              "0    August 14, 2020          2020  TV-MA  4 Seasons   \n",
              "1  December 23, 2016          2016  TV-MA     93 min   \n",
              "2  December 20, 2018          2011      R     78 min   \n",
              "3  November 16, 2017          2009  PG-13     80 min   \n",
              "4    January 1, 2020          2008  PG-13    123 min   \n",
              "\n",
              "                                           listed_in  \\\n",
              "0  International TV Shows, TV Dramas, TV Sci-Fi &...   \n",
              "1                       Dramas, International Movies   \n",
              "2                Horror Movies, International Movies   \n",
              "3  Action & Adventure, Independent Movies, Sci-Fi...   \n",
              "4                                             Dramas   \n",
              "\n",
              "                                         description  \n",
              "0  In a future where the elite inhabit an island ...  \n",
              "1  After a devastating earthquake hits Mexico Cit...  \n",
              "2  When an army recruit is found dead, his fellow...  \n",
              "3  In a postapocalyptic world, rag-doll robots hi...  \n",
              "4  A brilliant group of students become card-coun...  "
            ],
            "text/html": [
              "\n",
              "  <div id=\"df-768dd3e4-a516-4754-98ac-ebcab07c4dca\">\n",
              "    <div class=\"colab-df-container\">\n",
              "      <div>\n",
              "<style scoped>\n",
              "    .dataframe tbody tr th:only-of-type {\n",
              "        vertical-align: middle;\n",
              "    }\n",
              "\n",
              "    .dataframe tbody tr th {\n",
              "        vertical-align: top;\n",
              "    }\n",
              "\n",
              "    .dataframe thead th {\n",
              "        text-align: right;\n",
              "    }\n",
              "</style>\n",
              "<table border=\"1\" class=\"dataframe\">\n",
              "  <thead>\n",
              "    <tr style=\"text-align: right;\">\n",
              "      <th></th>\n",
              "      <th>show_id</th>\n",
              "      <th>type</th>\n",
              "      <th>title</th>\n",
              "      <th>director</th>\n",
              "      <th>cast</th>\n",
              "      <th>country</th>\n",
              "      <th>date_added</th>\n",
              "      <th>release_year</th>\n",
              "      <th>rating</th>\n",
              "      <th>duration</th>\n",
              "      <th>listed_in</th>\n",
              "      <th>description</th>\n",
              "    </tr>\n",
              "  </thead>\n",
              "  <tbody>\n",
              "    <tr>\n",
              "      <th>0</th>\n",
              "      <td>s1</td>\n",
              "      <td>TV Show</td>\n",
              "      <td>3%</td>\n",
              "      <td>NaN</td>\n",
              "      <td>João Miguel, Bianca Comparato, Michel Gomes, R...</td>\n",
              "      <td>Brazil</td>\n",
              "      <td>August 14, 2020</td>\n",
              "      <td>2020</td>\n",
              "      <td>TV-MA</td>\n",
              "      <td>4 Seasons</td>\n",
              "      <td>International TV Shows, TV Dramas, TV Sci-Fi &amp;...</td>\n",
              "      <td>In a future where the elite inhabit an island ...</td>\n",
              "    </tr>\n",
              "    <tr>\n",
              "      <th>1</th>\n",
              "      <td>s2</td>\n",
              "      <td>Movie</td>\n",
              "      <td>7:19</td>\n",
              "      <td>Jorge Michel Grau</td>\n",
              "      <td>Demián Bichir, Héctor Bonilla, Oscar Serrano, ...</td>\n",
              "      <td>Mexico</td>\n",
              "      <td>December 23, 2016</td>\n",
              "      <td>2016</td>\n",
              "      <td>TV-MA</td>\n",
              "      <td>93 min</td>\n",
              "      <td>Dramas, International Movies</td>\n",
              "      <td>After a devastating earthquake hits Mexico Cit...</td>\n",
              "    </tr>\n",
              "    <tr>\n",
              "      <th>2</th>\n",
              "      <td>s3</td>\n",
              "      <td>Movie</td>\n",
              "      <td>23:59</td>\n",
              "      <td>Gilbert Chan</td>\n",
              "      <td>Tedd Chan, Stella Chung, Henley Hii, Lawrence ...</td>\n",
              "      <td>Singapore</td>\n",
              "      <td>December 20, 2018</td>\n",
              "      <td>2011</td>\n",
              "      <td>R</td>\n",
              "      <td>78 min</td>\n",
              "      <td>Horror Movies, International Movies</td>\n",
              "      <td>When an army recruit is found dead, his fellow...</td>\n",
              "    </tr>\n",
              "    <tr>\n",
              "      <th>3</th>\n",
              "      <td>s4</td>\n",
              "      <td>Movie</td>\n",
              "      <td>9</td>\n",
              "      <td>Shane Acker</td>\n",
              "      <td>Elijah Wood, John C. Reilly, Jennifer Connelly...</td>\n",
              "      <td>United States</td>\n",
              "      <td>November 16, 2017</td>\n",
              "      <td>2009</td>\n",
              "      <td>PG-13</td>\n",
              "      <td>80 min</td>\n",
              "      <td>Action &amp; Adventure, Independent Movies, Sci-Fi...</td>\n",
              "      <td>In a postapocalyptic world, rag-doll robots hi...</td>\n",
              "    </tr>\n",
              "    <tr>\n",
              "      <th>4</th>\n",
              "      <td>s5</td>\n",
              "      <td>Movie</td>\n",
              "      <td>21</td>\n",
              "      <td>Robert Luketic</td>\n",
              "      <td>Jim Sturgess, Kevin Spacey, Kate Bosworth, Aar...</td>\n",
              "      <td>United States</td>\n",
              "      <td>January 1, 2020</td>\n",
              "      <td>2008</td>\n",
              "      <td>PG-13</td>\n",
              "      <td>123 min</td>\n",
              "      <td>Dramas</td>\n",
              "      <td>A brilliant group of students become card-coun...</td>\n",
              "    </tr>\n",
              "  </tbody>\n",
              "</table>\n",
              "</div>\n",
              "      <button class=\"colab-df-convert\" onclick=\"convertToInteractive('df-768dd3e4-a516-4754-98ac-ebcab07c4dca')\"\n",
              "              title=\"Convert this dataframe to an interactive table.\"\n",
              "              style=\"display:none;\">\n",
              "        \n",
              "  <svg xmlns=\"http://www.w3.org/2000/svg\" height=\"24px\"viewBox=\"0 0 24 24\"\n",
              "       width=\"24px\">\n",
              "    <path d=\"M0 0h24v24H0V0z\" fill=\"none\"/>\n",
              "    <path d=\"M18.56 5.44l.94 2.06.94-2.06 2.06-.94-2.06-.94-.94-2.06-.94 2.06-2.06.94zm-11 1L8.5 8.5l.94-2.06 2.06-.94-2.06-.94L8.5 2.5l-.94 2.06-2.06.94zm10 10l.94 2.06.94-2.06 2.06-.94-2.06-.94-.94-2.06-.94 2.06-2.06.94z\"/><path d=\"M17.41 7.96l-1.37-1.37c-.4-.4-.92-.59-1.43-.59-.52 0-1.04.2-1.43.59L10.3 9.45l-7.72 7.72c-.78.78-.78 2.05 0 2.83L4 21.41c.39.39.9.59 1.41.59.51 0 1.02-.2 1.41-.59l7.78-7.78 2.81-2.81c.8-.78.8-2.07 0-2.86zM5.41 20L4 18.59l7.72-7.72 1.47 1.35L5.41 20z\"/>\n",
              "  </svg>\n",
              "      </button>\n",
              "      \n",
              "  <style>\n",
              "    .colab-df-container {\n",
              "      display:flex;\n",
              "      flex-wrap:wrap;\n",
              "      gap: 12px;\n",
              "    }\n",
              "\n",
              "    .colab-df-convert {\n",
              "      background-color: #E8F0FE;\n",
              "      border: none;\n",
              "      border-radius: 50%;\n",
              "      cursor: pointer;\n",
              "      display: none;\n",
              "      fill: #1967D2;\n",
              "      height: 32px;\n",
              "      padding: 0 0 0 0;\n",
              "      width: 32px;\n",
              "    }\n",
              "\n",
              "    .colab-df-convert:hover {\n",
              "      background-color: #E2EBFA;\n",
              "      box-shadow: 0px 1px 2px rgba(60, 64, 67, 0.3), 0px 1px 3px 1px rgba(60, 64, 67, 0.15);\n",
              "      fill: #174EA6;\n",
              "    }\n",
              "\n",
              "    [theme=dark] .colab-df-convert {\n",
              "      background-color: #3B4455;\n",
              "      fill: #D2E3FC;\n",
              "    }\n",
              "\n",
              "    [theme=dark] .colab-df-convert:hover {\n",
              "      background-color: #434B5C;\n",
              "      box-shadow: 0px 1px 3px 1px rgba(0, 0, 0, 0.15);\n",
              "      filter: drop-shadow(0px 1px 2px rgba(0, 0, 0, 0.3));\n",
              "      fill: #FFFFFF;\n",
              "    }\n",
              "  </style>\n",
              "\n",
              "      <script>\n",
              "        const buttonEl =\n",
              "          document.querySelector('#df-768dd3e4-a516-4754-98ac-ebcab07c4dca button.colab-df-convert');\n",
              "        buttonEl.style.display =\n",
              "          google.colab.kernel.accessAllowed ? 'block' : 'none';\n",
              "\n",
              "        async function convertToInteractive(key) {\n",
              "          const element = document.querySelector('#df-768dd3e4-a516-4754-98ac-ebcab07c4dca');\n",
              "          const dataTable =\n",
              "            await google.colab.kernel.invokeFunction('convertToInteractive',\n",
              "                                                     [key], {});\n",
              "          if (!dataTable) return;\n",
              "\n",
              "          const docLinkHtml = 'Like what you see? Visit the ' +\n",
              "            '<a target=\"_blank\" href=https://colab.research.google.com/notebooks/data_table.ipynb>data table notebook</a>'\n",
              "            + ' to learn more about interactive tables.';\n",
              "          element.innerHTML = '';\n",
              "          dataTable['output_type'] = 'display_data';\n",
              "          await google.colab.output.renderOutput(dataTable, element);\n",
              "          const docLink = document.createElement('div');\n",
              "          docLink.innerHTML = docLinkHtml;\n",
              "          element.appendChild(docLink);\n",
              "        }\n",
              "      </script>\n",
              "    </div>\n",
              "  </div>\n",
              "  "
            ]
          },
          "metadata": {},
          "execution_count": 4
        }
      ]
    },
    {
      "cell_type": "code",
      "source": [
        "df.tail()"
      ],
      "metadata": {
        "colab": {
          "base_uri": "https://localhost:8080/",
          "height": 476
        },
        "id": "Z-UQ-H8Pmco0",
        "outputId": "fffc999e-83c4-4b9e-f009-7ff81235c6ab"
      },
      "execution_count": 5,
      "outputs": [
        {
          "output_type": "execute_result",
          "data": {
            "text/plain": [
              "     show_id     type                                    title     director  \\\n",
              "7782   s7783    Movie                                     Zozo  Josef Fares   \n",
              "7783   s7784    Movie                                   Zubaan  Mozez Singh   \n",
              "7784   s7785    Movie                        Zulu Man in Japan          NaN   \n",
              "7785   s7786  TV Show                    Zumbo's Just Desserts          NaN   \n",
              "7786   s7787    Movie  ZZ TOP: THAT LITTLE OL' BAND FROM TEXAS     Sam Dunn   \n",
              "\n",
              "                                                   cast  \\\n",
              "7782  Imad Creidi, Antoinette Turk, Elias Gergi, Car...   \n",
              "7783  Vicky Kaushal, Sarah-Jane Dias, Raaghav Chanan...   \n",
              "7784                                            Nasty C   \n",
              "7785                         Adriano Zumbo, Rachel Khoo   \n",
              "7786                                                NaN   \n",
              "\n",
              "                                                country          date_added  \\\n",
              "7782  Sweden, Czech Republic, United Kingdom, Denmar...    October 19, 2020   \n",
              "7783                                              India       March 2, 2019   \n",
              "7784                                                NaN  September 25, 2020   \n",
              "7785                                          Australia    October 31, 2020   \n",
              "7786              United Kingdom, Canada, United States       March 1, 2020   \n",
              "\n",
              "      release_year rating  duration  \\\n",
              "7782          2005  TV-MA    99 min   \n",
              "7783          2015  TV-14   111 min   \n",
              "7784          2019  TV-MA    44 min   \n",
              "7785          2019  TV-PG  1 Season   \n",
              "7786          2019  TV-MA    90 min   \n",
              "\n",
              "                                              listed_in  \\\n",
              "7782                       Dramas, International Movies   \n",
              "7783     Dramas, International Movies, Music & Musicals   \n",
              "7784  Documentaries, International Movies, Music & M...   \n",
              "7785                 International TV Shows, Reality TV   \n",
              "7786                    Documentaries, Music & Musicals   \n",
              "\n",
              "                                            description  \n",
              "7782  When Lebanon's Civil War deprives Zozo of his ...  \n",
              "7783  A scrappy but poor boy worms his way into a ty...  \n",
              "7784  In this documentary, South African rapper Nast...  \n",
              "7785  Dessert wizard Adriano Zumbo looks for the nex...  \n",
              "7786  This documentary delves into the mystique behi...  "
            ],
            "text/html": [
              "\n",
              "  <div id=\"df-d35d7a0a-4e29-4a59-b822-036480de0538\">\n",
              "    <div class=\"colab-df-container\">\n",
              "      <div>\n",
              "<style scoped>\n",
              "    .dataframe tbody tr th:only-of-type {\n",
              "        vertical-align: middle;\n",
              "    }\n",
              "\n",
              "    .dataframe tbody tr th {\n",
              "        vertical-align: top;\n",
              "    }\n",
              "\n",
              "    .dataframe thead th {\n",
              "        text-align: right;\n",
              "    }\n",
              "</style>\n",
              "<table border=\"1\" class=\"dataframe\">\n",
              "  <thead>\n",
              "    <tr style=\"text-align: right;\">\n",
              "      <th></th>\n",
              "      <th>show_id</th>\n",
              "      <th>type</th>\n",
              "      <th>title</th>\n",
              "      <th>director</th>\n",
              "      <th>cast</th>\n",
              "      <th>country</th>\n",
              "      <th>date_added</th>\n",
              "      <th>release_year</th>\n",
              "      <th>rating</th>\n",
              "      <th>duration</th>\n",
              "      <th>listed_in</th>\n",
              "      <th>description</th>\n",
              "    </tr>\n",
              "  </thead>\n",
              "  <tbody>\n",
              "    <tr>\n",
              "      <th>7782</th>\n",
              "      <td>s7783</td>\n",
              "      <td>Movie</td>\n",
              "      <td>Zozo</td>\n",
              "      <td>Josef Fares</td>\n",
              "      <td>Imad Creidi, Antoinette Turk, Elias Gergi, Car...</td>\n",
              "      <td>Sweden, Czech Republic, United Kingdom, Denmar...</td>\n",
              "      <td>October 19, 2020</td>\n",
              "      <td>2005</td>\n",
              "      <td>TV-MA</td>\n",
              "      <td>99 min</td>\n",
              "      <td>Dramas, International Movies</td>\n",
              "      <td>When Lebanon's Civil War deprives Zozo of his ...</td>\n",
              "    </tr>\n",
              "    <tr>\n",
              "      <th>7783</th>\n",
              "      <td>s7784</td>\n",
              "      <td>Movie</td>\n",
              "      <td>Zubaan</td>\n",
              "      <td>Mozez Singh</td>\n",
              "      <td>Vicky Kaushal, Sarah-Jane Dias, Raaghav Chanan...</td>\n",
              "      <td>India</td>\n",
              "      <td>March 2, 2019</td>\n",
              "      <td>2015</td>\n",
              "      <td>TV-14</td>\n",
              "      <td>111 min</td>\n",
              "      <td>Dramas, International Movies, Music &amp; Musicals</td>\n",
              "      <td>A scrappy but poor boy worms his way into a ty...</td>\n",
              "    </tr>\n",
              "    <tr>\n",
              "      <th>7784</th>\n",
              "      <td>s7785</td>\n",
              "      <td>Movie</td>\n",
              "      <td>Zulu Man in Japan</td>\n",
              "      <td>NaN</td>\n",
              "      <td>Nasty C</td>\n",
              "      <td>NaN</td>\n",
              "      <td>September 25, 2020</td>\n",
              "      <td>2019</td>\n",
              "      <td>TV-MA</td>\n",
              "      <td>44 min</td>\n",
              "      <td>Documentaries, International Movies, Music &amp; M...</td>\n",
              "      <td>In this documentary, South African rapper Nast...</td>\n",
              "    </tr>\n",
              "    <tr>\n",
              "      <th>7785</th>\n",
              "      <td>s7786</td>\n",
              "      <td>TV Show</td>\n",
              "      <td>Zumbo's Just Desserts</td>\n",
              "      <td>NaN</td>\n",
              "      <td>Adriano Zumbo, Rachel Khoo</td>\n",
              "      <td>Australia</td>\n",
              "      <td>October 31, 2020</td>\n",
              "      <td>2019</td>\n",
              "      <td>TV-PG</td>\n",
              "      <td>1 Season</td>\n",
              "      <td>International TV Shows, Reality TV</td>\n",
              "      <td>Dessert wizard Adriano Zumbo looks for the nex...</td>\n",
              "    </tr>\n",
              "    <tr>\n",
              "      <th>7786</th>\n",
              "      <td>s7787</td>\n",
              "      <td>Movie</td>\n",
              "      <td>ZZ TOP: THAT LITTLE OL' BAND FROM TEXAS</td>\n",
              "      <td>Sam Dunn</td>\n",
              "      <td>NaN</td>\n",
              "      <td>United Kingdom, Canada, United States</td>\n",
              "      <td>March 1, 2020</td>\n",
              "      <td>2019</td>\n",
              "      <td>TV-MA</td>\n",
              "      <td>90 min</td>\n",
              "      <td>Documentaries, Music &amp; Musicals</td>\n",
              "      <td>This documentary delves into the mystique behi...</td>\n",
              "    </tr>\n",
              "  </tbody>\n",
              "</table>\n",
              "</div>\n",
              "      <button class=\"colab-df-convert\" onclick=\"convertToInteractive('df-d35d7a0a-4e29-4a59-b822-036480de0538')\"\n",
              "              title=\"Convert this dataframe to an interactive table.\"\n",
              "              style=\"display:none;\">\n",
              "        \n",
              "  <svg xmlns=\"http://www.w3.org/2000/svg\" height=\"24px\"viewBox=\"0 0 24 24\"\n",
              "       width=\"24px\">\n",
              "    <path d=\"M0 0h24v24H0V0z\" fill=\"none\"/>\n",
              "    <path d=\"M18.56 5.44l.94 2.06.94-2.06 2.06-.94-2.06-.94-.94-2.06-.94 2.06-2.06.94zm-11 1L8.5 8.5l.94-2.06 2.06-.94-2.06-.94L8.5 2.5l-.94 2.06-2.06.94zm10 10l.94 2.06.94-2.06 2.06-.94-2.06-.94-.94-2.06-.94 2.06-2.06.94z\"/><path d=\"M17.41 7.96l-1.37-1.37c-.4-.4-.92-.59-1.43-.59-.52 0-1.04.2-1.43.59L10.3 9.45l-7.72 7.72c-.78.78-.78 2.05 0 2.83L4 21.41c.39.39.9.59 1.41.59.51 0 1.02-.2 1.41-.59l7.78-7.78 2.81-2.81c.8-.78.8-2.07 0-2.86zM5.41 20L4 18.59l7.72-7.72 1.47 1.35L5.41 20z\"/>\n",
              "  </svg>\n",
              "      </button>\n",
              "      \n",
              "  <style>\n",
              "    .colab-df-container {\n",
              "      display:flex;\n",
              "      flex-wrap:wrap;\n",
              "      gap: 12px;\n",
              "    }\n",
              "\n",
              "    .colab-df-convert {\n",
              "      background-color: #E8F0FE;\n",
              "      border: none;\n",
              "      border-radius: 50%;\n",
              "      cursor: pointer;\n",
              "      display: none;\n",
              "      fill: #1967D2;\n",
              "      height: 32px;\n",
              "      padding: 0 0 0 0;\n",
              "      width: 32px;\n",
              "    }\n",
              "\n",
              "    .colab-df-convert:hover {\n",
              "      background-color: #E2EBFA;\n",
              "      box-shadow: 0px 1px 2px rgba(60, 64, 67, 0.3), 0px 1px 3px 1px rgba(60, 64, 67, 0.15);\n",
              "      fill: #174EA6;\n",
              "    }\n",
              "\n",
              "    [theme=dark] .colab-df-convert {\n",
              "      background-color: #3B4455;\n",
              "      fill: #D2E3FC;\n",
              "    }\n",
              "\n",
              "    [theme=dark] .colab-df-convert:hover {\n",
              "      background-color: #434B5C;\n",
              "      box-shadow: 0px 1px 3px 1px rgba(0, 0, 0, 0.15);\n",
              "      filter: drop-shadow(0px 1px 2px rgba(0, 0, 0, 0.3));\n",
              "      fill: #FFFFFF;\n",
              "    }\n",
              "  </style>\n",
              "\n",
              "      <script>\n",
              "        const buttonEl =\n",
              "          document.querySelector('#df-d35d7a0a-4e29-4a59-b822-036480de0538 button.colab-df-convert');\n",
              "        buttonEl.style.display =\n",
              "          google.colab.kernel.accessAllowed ? 'block' : 'none';\n",
              "\n",
              "        async function convertToInteractive(key) {\n",
              "          const element = document.querySelector('#df-d35d7a0a-4e29-4a59-b822-036480de0538');\n",
              "          const dataTable =\n",
              "            await google.colab.kernel.invokeFunction('convertToInteractive',\n",
              "                                                     [key], {});\n",
              "          if (!dataTable) return;\n",
              "\n",
              "          const docLinkHtml = 'Like what you see? Visit the ' +\n",
              "            '<a target=\"_blank\" href=https://colab.research.google.com/notebooks/data_table.ipynb>data table notebook</a>'\n",
              "            + ' to learn more about interactive tables.';\n",
              "          element.innerHTML = '';\n",
              "          dataTable['output_type'] = 'display_data';\n",
              "          await google.colab.output.renderOutput(dataTable, element);\n",
              "          const docLink = document.createElement('div');\n",
              "          docLink.innerHTML = docLinkHtml;\n",
              "          element.appendChild(docLink);\n",
              "        }\n",
              "      </script>\n",
              "    </div>\n",
              "  </div>\n",
              "  "
            ]
          },
          "metadata": {},
          "execution_count": 5
        }
      ]
    },
    {
      "cell_type": "code",
      "source": [
        "#shape and size of dataset\n",
        "df.shape"
      ],
      "metadata": {
        "colab": {
          "base_uri": "https://localhost:8080/"
        },
        "id": "xilRim8Emcl9",
        "outputId": "c6be1b86-a543-41a8-847f-57a99bcc85f6"
      },
      "execution_count": 6,
      "outputs": [
        {
          "output_type": "execute_result",
          "data": {
            "text/plain": [
              "(7787, 12)"
            ]
          },
          "metadata": {},
          "execution_count": 6
        }
      ]
    },
    {
      "cell_type": "code",
      "source": [
        "#looking for any duplicates in dataset\n",
        "len(df[df.duplicated()])"
      ],
      "metadata": {
        "colab": {
          "base_uri": "https://localhost:8080/"
        },
        "id": "uHfVbjonmci9",
        "outputId": "fa349fd5-0361-43a0-c062-98fc03229c57"
      },
      "execution_count": 7,
      "outputs": [
        {
          "output_type": "execute_result",
          "data": {
            "text/plain": [
              "0"
            ]
          },
          "metadata": {},
          "execution_count": 7
        }
      ]
    },
    {
      "cell_type": "markdown",
      "source": [
        "**Looking for null values in dataset**"
      ],
      "metadata": {
        "id": "cwuS6Vj_qcOW"
      }
    },
    {
      "cell_type": "code",
      "source": [
        "#sum of all null values for each features\n",
        "df.isnull().sum()"
      ],
      "metadata": {
        "colab": {
          "base_uri": "https://localhost:8080/"
        },
        "id": "zYfCx75Imcgh",
        "outputId": "d0808188-74bd-469c-9310-7b14ea5e6f62"
      },
      "execution_count": 8,
      "outputs": [
        {
          "output_type": "execute_result",
          "data": {
            "text/plain": [
              "show_id            0\n",
              "type               0\n",
              "title              0\n",
              "director        2389\n",
              "cast             718\n",
              "country          507\n",
              "date_added        10\n",
              "release_year       0\n",
              "rating             7\n",
              "duration           0\n",
              "listed_in          0\n",
              "description        0\n",
              "dtype: int64"
            ]
          },
          "metadata": {},
          "execution_count": 8
        }
      ]
    },
    {
      "cell_type": "markdown",
      "source": [
        "\n",
        "\n",
        "*   Several features in dataset have null values.\n",
        "*   So to handle those null values in better way, lets look for percentage of null values in dataset.\n",
        "\n"
      ],
      "metadata": {
        "id": "EGKunihzqsfW"
      }
    },
    {
      "cell_type": "code",
      "source": [
        "#percentage of all null values for each features\n",
        "df.isnull().sum()/df.shape[0]*100"
      ],
      "metadata": {
        "colab": {
          "base_uri": "https://localhost:8080/"
        },
        "id": "uxlS8u6Tmcdy",
        "outputId": "bbf00c4a-ca06-47de-e856-0790f9433d44"
      },
      "execution_count": 9,
      "outputs": [
        {
          "output_type": "execute_result",
          "data": {
            "text/plain": [
              "show_id          0.000000\n",
              "type             0.000000\n",
              "title            0.000000\n",
              "director        30.679337\n",
              "cast             9.220496\n",
              "country          6.510851\n",
              "date_added       0.128419\n",
              "release_year     0.000000\n",
              "rating           0.089893\n",
              "duration         0.000000\n",
              "listed_in        0.000000\n",
              "description      0.000000\n",
              "dtype: float64"
            ]
          },
          "metadata": {},
          "execution_count": 9
        }
      ]
    },
    {
      "cell_type": "code",
      "source": [
        "df.drop('director', axis=1, inplace=True)\n",
        "df['country'].fillna(df['country'].mode()[0], inplace=True)\n",
        "df['rating'].fillna(df['rating'].mode()[0], inplace=True)\n",
        "df.dropna(subset=['date_added'], inplace=True)\n",
        "df['cast'].fillna('missing', inplace=True)"
      ],
      "metadata": {
        "id": "apBHZRwRmcbC"
      },
      "execution_count": 10,
      "outputs": []
    },
    {
      "cell_type": "code",
      "source": [
        "#final check for null value\n",
        "df.isnull().sum()/df.shape[0]*100"
      ],
      "metadata": {
        "colab": {
          "base_uri": "https://localhost:8080/"
        },
        "id": "___x23WumcYa",
        "outputId": "5b4ad330-870d-4149-9d54-bdee7b49c147"
      },
      "execution_count": 11,
      "outputs": [
        {
          "output_type": "execute_result",
          "data": {
            "text/plain": [
              "show_id         0.0\n",
              "type            0.0\n",
              "title           0.0\n",
              "cast            0.0\n",
              "country         0.0\n",
              "date_added      0.0\n",
              "release_year    0.0\n",
              "rating          0.0\n",
              "duration        0.0\n",
              "listed_in       0.0\n",
              "description     0.0\n",
              "dtype: float64"
            ]
          },
          "metadata": {},
          "execution_count": 11
        }
      ]
    },
    {
      "cell_type": "markdown",
      "source": [
        "All the null values handed and dataset is ready for next challenges.\n"
      ],
      "metadata": {
        "id": "uvaMBjX_sthA"
      }
    },
    {
      "cell_type": "markdown",
      "source": [
        "**Looking for data types and data formats**"
      ],
      "metadata": {
        "id": "9QoTzE_8s2xZ"
      }
    },
    {
      "cell_type": "code",
      "source": [
        "# information about all the features of dataset\n",
        "df.info()"
      ],
      "metadata": {
        "colab": {
          "base_uri": "https://localhost:8080/"
        },
        "id": "Odsu62hrmcVt",
        "outputId": "2d198089-9454-4b48-d604-477f4a8399d0"
      },
      "execution_count": 12,
      "outputs": [
        {
          "output_type": "stream",
          "name": "stdout",
          "text": [
            "<class 'pandas.core.frame.DataFrame'>\n",
            "Int64Index: 7777 entries, 0 to 7786\n",
            "Data columns (total 11 columns):\n",
            " #   Column        Non-Null Count  Dtype \n",
            "---  ------        --------------  ----- \n",
            " 0   show_id       7777 non-null   object\n",
            " 1   type          7777 non-null   object\n",
            " 2   title         7777 non-null   object\n",
            " 3   cast          7777 non-null   object\n",
            " 4   country       7777 non-null   object\n",
            " 5   date_added    7777 non-null   object\n",
            " 6   release_year  7777 non-null   int64 \n",
            " 7   rating        7777 non-null   object\n",
            " 8   duration      7777 non-null   object\n",
            " 9   listed_in     7777 non-null   object\n",
            " 10  description   7777 non-null   object\n",
            "dtypes: int64(1), object(10)\n",
            "memory usage: 729.1+ KB\n"
          ]
        }
      ]
    },
    {
      "cell_type": "markdown",
      "source": [
        "Date_added feature have object datatype.\n",
        "\n",
        "converting to datetime datatype from object datatype."
      ],
      "metadata": {
        "id": "oNY59KmNtFYs"
      }
    },
    {
      "cell_type": "code",
      "source": [
        "df['date_added'] = pd.to_datetime(df['date_added'])"
      ],
      "metadata": {
        "id": "62j2e4BlmcTF"
      },
      "execution_count": 13,
      "outputs": []
    },
    {
      "cell_type": "markdown",
      "source": [
        "Duration feature have object datatype . Converting to int datetype from object datatype"
      ],
      "metadata": {
        "id": "mx-eScEdtj0n"
      }
    },
    {
      "cell_type": "code",
      "source": [
        "df['duration']"
      ],
      "metadata": {
        "colab": {
          "base_uri": "https://localhost:8080/"
        },
        "id": "V3J7bP_cmcQb",
        "outputId": "fc461211-e6e2-40df-a6ad-dbe55da8b3bc"
      },
      "execution_count": 14,
      "outputs": [
        {
          "output_type": "execute_result",
          "data": {
            "text/plain": [
              "0       4 Seasons\n",
              "1          93 min\n",
              "2          78 min\n",
              "3          80 min\n",
              "4         123 min\n",
              "          ...    \n",
              "7782       99 min\n",
              "7783      111 min\n",
              "7784       44 min\n",
              "7785     1 Season\n",
              "7786       90 min\n",
              "Name: duration, Length: 7777, dtype: object"
            ]
          },
          "metadata": {},
          "execution_count": 14
        }
      ]
    },
    {
      "cell_type": "markdown",
      "source": [
        "\n",
        "\n",
        "*   Duration are in combination of int values and string.\n",
        "*   Removing string part so as to get int datatype.\n",
        "\n"
      ],
      "metadata": {
        "id": "jSAedt63t7KC"
      }
    },
    {
      "cell_type": "code",
      "source": [
        "#splitting each values by space and selecting int part at zeroth index\n",
        "df['duration'] = df['duration'].apply(lambda x : x.split(\" \")[0])\n"
      ],
      "metadata": {
        "id": "VNogUXGrmcNv"
      },
      "execution_count": 15,
      "outputs": []
    },
    {
      "cell_type": "code",
      "source": [
        "# check for updated duration values\n",
        "df['duration']"
      ],
      "metadata": {
        "colab": {
          "base_uri": "https://localhost:8080/"
        },
        "id": "UjtAAteUmcI2",
        "outputId": "a9dce357-7e07-4c8c-a19d-5e56db5fe26a"
      },
      "execution_count": 16,
      "outputs": [
        {
          "output_type": "execute_result",
          "data": {
            "text/plain": [
              "0         4\n",
              "1        93\n",
              "2        78\n",
              "3        80\n",
              "4       123\n",
              "       ... \n",
              "7782     99\n",
              "7783    111\n",
              "7784     44\n",
              "7785      1\n",
              "7786     90\n",
              "Name: duration, Length: 7777, dtype: object"
            ]
          },
          "metadata": {},
          "execution_count": 16
        }
      ]
    },
    {
      "cell_type": "code",
      "source": [
        "df.info()"
      ],
      "metadata": {
        "colab": {
          "base_uri": "https://localhost:8080/"
        },
        "id": "GyDgc1tvmcGf",
        "outputId": "9fb4bfdf-5be0-49aa-bfd3-5eb3a2f42238"
      },
      "execution_count": 17,
      "outputs": [
        {
          "output_type": "stream",
          "name": "stdout",
          "text": [
            "<class 'pandas.core.frame.DataFrame'>\n",
            "Int64Index: 7777 entries, 0 to 7786\n",
            "Data columns (total 11 columns):\n",
            " #   Column        Non-Null Count  Dtype         \n",
            "---  ------        --------------  -----         \n",
            " 0   show_id       7777 non-null   object        \n",
            " 1   type          7777 non-null   object        \n",
            " 2   title         7777 non-null   object        \n",
            " 3   cast          7777 non-null   object        \n",
            " 4   country       7777 non-null   object        \n",
            " 5   date_added    7777 non-null   datetime64[ns]\n",
            " 6   release_year  7777 non-null   int64         \n",
            " 7   rating        7777 non-null   object        \n",
            " 8   duration      7777 non-null   object        \n",
            " 9   listed_in     7777 non-null   object        \n",
            " 10  description   7777 non-null   object        \n",
            "dtypes: datetime64[ns](1), int64(1), object(9)\n",
            "memory usage: 729.1+ KB\n"
          ]
        }
      ]
    },
    {
      "cell_type": "markdown",
      "source": [
        "Now all the features and their values are in required datatyped and formats."
      ],
      "metadata": {
        "id": "zd6xLzAv3Fe1"
      }
    },
    {
      "cell_type": "code",
      "source": [
        "# setting limits for display of rows and columns for better understanding.\n",
        "pd.set_option('display.max_rows', 200)\n",
        "pd.set_option('display.max_columns', 200)"
      ],
      "metadata": {
        "id": "yxtLSbc3mcD-"
      },
      "execution_count": 18,
      "outputs": []
    },
    {
      "cell_type": "markdown",
      "source": [
        "**Creating some new features from existing features to understand data better.**"
      ],
      "metadata": {
        "id": "XmOshqeO3udg"
      }
    },
    {
      "cell_type": "code",
      "source": [
        "# add new features from date feature.\n",
        "df['year_added'] = df['date_added'].dt.year\n",
        "df['month_added'] = df['date_added'].dt.month\n",
        "df['day_added'] = df['date_added'].dt.day"
      ],
      "metadata": {
        "id": "ZL-w5ccbmcBl"
      },
      "execution_count": 19,
      "outputs": []
    },
    {
      "cell_type": "code",
      "source": [
        "#check for final dataset shape\n",
        "df.shape"
      ],
      "metadata": {
        "colab": {
          "base_uri": "https://localhost:8080/"
        },
        "id": "yMTqE1p4mb_N",
        "outputId": "3c9830d0-b950-4262-b8f0-1d749c2fc824"
      },
      "execution_count": 20,
      "outputs": [
        {
          "output_type": "execute_result",
          "data": {
            "text/plain": [
              "(7777, 14)"
            ]
          },
          "metadata": {},
          "execution_count": 20
        }
      ]
    },
    {
      "cell_type": "markdown",
      "source": [
        "# **EDA**\n",
        "\n",
        "**Movies Vs. TV Shows**"
      ],
      "metadata": {
        "id": "KJ4Pj-JK4dJP"
      }
    },
    {
      "cell_type": "markdown",
      "source": [
        "\n",
        "\n",
        "*   This dataset contains data about movies and TV shows which were added on netflix.\n",
        "\n",
        "\n"
      ],
      "metadata": {
        "id": "mgofKOze4mv5"
      }
    },
    {
      "cell_type": "markdown",
      "source": [
        "**Lets look at dominance between Movies and TV Shows.**"
      ],
      "metadata": {
        "id": "OjovS_Kb4rQf"
      }
    },
    {
      "cell_type": "code",
      "source": [
        "# pie chart showing percentage of total movies and TV shows.\n",
        "# Choose this facecolor so as to give styke of netflix\n",
        "fig, ax = plt.subplots(figsize=(5,5), facecolor=\"#363336\")\n",
        "ax.patch.set_facecolor('#363336')\n",
        "explode = (0, 0.1)\n",
        "ax.pie(df['type'].value_counts(), explode=explode, autopct='%.2f%%', labels = ['Movie', 'Tv show'], shadow = True,\n",
        "       startangle=90, textprops={'color':\"black\", 'fontsize':20}, colors=['red', '#F5E9F5'])\n"
      ],
      "metadata": {
        "colab": {
          "base_uri": "https://localhost:8080/",
          "height": 407
        },
        "id": "4q_ix6XMmb8m",
        "outputId": "eaf3f8c7-e86f-4db6-e0b2-206770526726"
      },
      "execution_count": 21,
      "outputs": [
        {
          "output_type": "execute_result",
          "data": {
            "text/plain": [
              "([<matplotlib.patches.Wedge at 0x7f51b727b550>,\n",
              "  <matplotlib.patches.Wedge at 0x7f51b727bfd0>],\n",
              " [Text(-0.9070648963562528, -0.6222807033792873, 'Movie'),\n",
              "  Text(0.9895252779208632, 0.6788517690598137, 'Tv show')],\n",
              " [Text(-0.4947626707397742, -0.339425838206884, '69.14%'),\n",
              "  Text(0.5772230787871702, 0.39599686528489125, '30.86%')])"
            ]
          },
          "metadata": {},
          "execution_count": 21
        },
        {
          "output_type": "display_data",
          "data": {
            "text/plain": [
              "<Figure size 360x360 with 1 Axes>"
            ],
            "image/png": "[encoded data removed]"
          },
          "metadata": {}
        }
      ]
    },
    {
      "cell_type": "markdown",
      "source": [
        "\n",
        "\n",
        "*   Movies uploaded on Netflix are more than twice the TV sj=hows uploaded.\n",
        "\n",
        "*   This does not implies that movies are more indulging that of TV shows.\n",
        "\n",
        "*   Beacause TV shows may have several seasons which consists of number of episodes.\n",
        "\n",
        "\n",
        "*   Duration of TV shows are much more that movies.\n",
        "\n"
      ],
      "metadata": {
        "id": "0MIYmwRo6M3h"
      }
    },
    {
      "cell_type": "markdown",
      "source": [
        "Number of Movies and TV Shows added on netflix.\n",
        "\n",
        "On Year Basis \n",
        "\n",
        "\n",
        "\n"
      ],
      "metadata": {
        "id": "z323AZRQ63IX"
      }
    },
    {
      "cell_type": "code",
      "source": [
        "fig, ax = plt.subplots(figsize=(15,6), facecolor=\"#363336\")\n",
        "ax.patch.set_facecolor('#363336')\n",
        "sns.countplot(x='year_added', hue='type', lw=5, color='red', data=df, ax=ax)\n",
        "ax.tick_params(axis='x', colors='#F5E9F5', labelsize=15)\n",
        "ax.tick_params(axis='y', colors='#F5E9F5', labelsize=15)\n",
        "ax.set_xlabel(\"Years\", color='#F5E9F5', fontsize=20)\n",
        "ax.set_ylabel(\"Counts\", color='#F5E9F5', fontsize=20)\n",
        "ax.set_title(\"Yearwise Movies & TV Shows\", color='#F5E9F5', fontsize=30)\n",
        "ax.spines['right'].set_visible(False)\n",
        "ax.spines['top'].set_visible(False)\n",
        "ax.spines['left'].set_visible(True)"
      ],
      "metadata": {
        "colab": {
          "base_uri": "https://localhost:8080/",
          "height": 431
        },
        "id": "PuL4uxGkmb6A",
        "outputId": "9228e0ad-1425-4ad7-da10-1a50f02f058c"
      },
      "execution_count": 22,
      "outputs": [
        {
          "output_type": "display_data",
          "data": {
            "text/plain": [
              "<Figure size 1080x432 with 1 Axes>"
            ],
            "image/png": "[encoded data removed]"
          },
          "metadata": {}
        }
      ]
    },
    {
      "cell_type": "markdown",
      "source": [
        "\n",
        "\n",
        "*   TV shows are increasing continuosly.\n",
        "*   Movies were increasing continuosly but after 2019 there is fall.\n",
        "\n"
      ],
      "metadata": {
        "id": "4NT37WJn89Eg"
      }
    },
    {
      "cell_type": "markdown",
      "source": [
        "**On Month Basis**"
      ],
      "metadata": {
        "id": "wxHIwTPO9dFV"
      }
    },
    {
      "cell_type": "code",
      "source": [
        "fig, ax = plt.subplots(figsize=(15,6), facecolor=\"#363336\")\n",
        "ax.patch.set_facecolor('#363336')\n",
        "sns.countplot(x='month_added', hue='type', lw=5, color='red', data=df, ax=ax)\n",
        "ax.tick_params(axis='x', colors='#F5E9F5', labelsize=15)\n",
        "ax.tick_params(axis='y', colors='#F5E9F5', labelsize=15)\n",
        "ax.set_xlabel(\"Months\", color='#F5E9F5', fontsize=20)\n",
        "ax.set_ylabel(\"Counts\", color='#F5E9F5', fontsize=20)\n",
        "ax.set_title(\"Monthwise Movies & TV Shows\", color='#F5E9F5', fontsize=30)\n",
        "ax.spines['right'].set_visible(False)\n",
        "ax.spines['top'].set_visible(False)\n",
        "ax.spines['left'].set_visible(True)"
      ],
      "metadata": {
        "colab": {
          "base_uri": "https://localhost:8080/",
          "height": 431
        },
        "id": "mfmxQx0Jmb3q",
        "outputId": "4d7b57d4-0cea-4d4d-b897-71ab18b674ca"
      },
      "execution_count": 23,
      "outputs": [
        {
          "output_type": "display_data",
          "data": {
            "text/plain": [
              "<Figure size 1080x432 with 1 Axes>"
            ],
            "image/png": "[encoded data removed]"
          },
          "metadata": {}
        }
      ]
    },
    {
      "cell_type": "markdown",
      "source": [
        "\n",
        "\n",
        "*   From Octomber to January, maximum number of movies and TV shows were added.\n",
        "\n",
        "*   Possible reason for that is, during this period of time events such as Christmas, New Year and several holidays takes place.List item\n",
        "\n"
      ],
      "metadata": {
        "id": "AGuLoGm-9yEF"
      }
    },
    {
      "cell_type": "markdown",
      "source": [
        "**On Day Basis**"
      ],
      "metadata": {
        "id": "66SjKKTN95UE"
      }
    },
    {
      "cell_type": "code",
      "source": [
        "fig, ax = plt.subplots(figsize=(15,6), facecolor=\"#363336\")\n",
        "ax.patch.set_facecolor('#363336')\n",
        "sns.countplot(x='day_added', hue='type', lw=5, color='red', data=df, ax=ax)\n",
        "ax.tick_params(axis='x', colors='#F5E9F5', labelsize=15)\n",
        "ax.tick_params(axis='y', colors='#F5E9F5', labelsize=15)\n",
        "ax.set_xlabel(\"Days\", color='#F5E9F5', fontsize=20)\n",
        "ax.set_ylabel(\"Counts\", color='#F5E9F5', fontsize=20)\n",
        "ax.set_title(\"DAyMonthwise Movies & TV Shows\", color='#F5E9F5', fontsize=30)\n",
        "ax.spines['right'].set_visible(False)\n",
        "ax.spines['top'].set_visible(False)\n",
        "ax.spines['left'].set_visible(True)"
      ],
      "metadata": {
        "colab": {
          "base_uri": "https://localhost:8080/",
          "height": 431
        },
        "id": "4K6MPFkkmb1N",
        "outputId": "9885d9f0-8632-4822-9614-d46c7d75b17d"
      },
      "execution_count": 24,
      "outputs": [
        {
          "output_type": "display_data",
          "data": {
            "text/plain": [
              "<Figure size 1080x432 with 1 Axes>"
            ],
            "image/png": "[encoded data removed]"
          },
          "metadata": {}
        }
      ]
    },
    {
      "cell_type": "markdown",
      "source": [
        "\n",
        "\n",
        "*   Maximum number of movies and TV shows were either on start of the month or mid of the month.\n",
        "\n"
      ],
      "metadata": {
        "id": "1gItsznr-Jqc"
      }
    },
    {
      "cell_type": "markdown",
      "source": [
        "**Wordwide Presence of Netflix**\n",
        "\n",
        "\n",
        "\n",
        "*   Popularity Netflix is all over the world.\n",
        "*   Lets look for its highest presence over countries.\n",
        "\n"
      ],
      "metadata": {
        "id": "sGB81C14-O4C"
      }
    },
    {
      "cell_type": "markdown",
      "source": [
        "Top 10 Countries having maximum Movies and Tv shows "
      ],
      "metadata": {
        "id": "0RjvYTdnOZtg"
      }
    },
    {
      "cell_type": "code",
      "source": [
        "fig, ax = plt.subplots(figsize=(15,6), facecolor=\"#363336\")\n",
        "ax.patch.set_facecolor('#363336')\n",
        "(df['country'].value_counts().sort_values()/df.shape[0]*100)[-10:].plot(kind='barh', ax=ax, color='red', alpha=0.8)\n",
        "ax.tick_params(axis='x', colors='#F5E9F5', labelsize=15)\n",
        "ax.tick_params(axis='y', colors='#F5E9F5', labelsize=15)\n",
        "ax.set_xlabel(\"Percentage\", color='#F5E9F5', fontsize=20)\n",
        "ax.set_ylabel(\"Countries\", color='#F5E9F5', fontsize=20)\n",
        "ax.set_title(\"Top 10 Countries\", color='#F5E9F5', fontsize=30)\n",
        "ax.spines['right'].set_visible(False)\n",
        "ax.spines['top'].set_visible(False)\n",
        "ax.spines['left'].set_visible(True)"
      ],
      "metadata": {
        "colab": {
          "base_uri": "https://localhost:8080/",
          "height": 431
        },
        "id": "WkU6Wphvmbyy",
        "outputId": "f611dac1-cd43-40a6-fe21-74dcb9c9bc79"
      },
      "execution_count": 26,
      "outputs": [
        {
          "output_type": "display_data",
          "data": {
            "text/plain": [
              "<Figure size 1080x432 with 1 Axes>"
            ],
            "image/png": "[encoded data removed]"
          },
          "metadata": {}
        }
      ]
    },
    {
      "cell_type": "markdown",
      "source": [
        "\n",
        "\n",
        "*   Unities State tops in list of maximum number of movies and TV shows.\n",
        "*   Followed by India, UK and Japan.\n",
        "\n"
      ],
      "metadata": {
        "id": "FdJfGosKP7Ge"
      }
    },
    {
      "cell_type": "markdown",
      "source": [
        "**Ratings on Movies and TV Shows**\n",
        "\n",
        "**For Movies:**\n",
        "\n",
        "*   G: Kids\n",
        "*   PG: Older Kids (7+)\n",
        "\n",
        "\n",
        "*   PG-13: Teens (13+)\n",
        "*   NC-17, NR, R, Unrated: Adults (18+)\n",
        "\n",
        "\n",
        "\n",
        "**For TV Shows:**\n",
        "\n",
        "\n",
        "\n",
        "*   TV-G, TV-Y: Kids\n",
        "\n",
        "*   TV-Y7/FV/PG: Older Kids (7+)\n",
        "*   TV-14: Young Adults (16+)\n",
        "\n",
        "\n",
        "*   TV-MA: Adults (18+)\n",
        "\n"
      ],
      "metadata": {
        "id": "RCRFOv74QSBq"
      }
    },
    {
      "cell_type": "code",
      "source": [
        "fig, ax = plt.subplots(figsize=(15,6), facecolor=\"#363336\")\n",
        "ax.patch.set_facecolor('#363336')\n",
        "sns.countplot(x='rating', hue='type', lw=5, color='red', data=df, ax=ax)\n",
        "ax.tick_params(axis='x', colors='#F5E9F5', labelsize=15)\n",
        "ax.tick_params(axis='y', colors='#F5E9F5', labelsize=15)\n",
        "ax.set_xlabel(\"Ratings\", color='#F5E9F5', fontsize=20)\n",
        "ax.set_ylabel(\"Counts\", color='#F5E9F5', fontsize=20)\n",
        "ax.set_title(\"Ratings: Movies & TV Shows\", color='#F5E9F5', fontsize=30)\n",
        "ax.spines['right'].set_visible(False)\n",
        "ax.spines['top'].set_visible(False)\n",
        "ax.spines['left'].set_visible(True)"
      ],
      "metadata": {
        "colab": {
          "base_uri": "https://localhost:8080/",
          "height": 431
        },
        "id": "dzihpPXLmbwZ",
        "outputId": "0b8e29ea-2250-4ebc-f35b-3e374d7f4e14"
      },
      "execution_count": 27,
      "outputs": [
        {
          "output_type": "display_data",
          "data": {
            "text/plain": [
              "<Figure size 1080x432 with 1 Axes>"
            ],
            "image/png": "[encoded data removed]"
          },
          "metadata": {}
        }
      ]
    },
    {
      "cell_type": "markdown",
      "source": [
        "\n",
        "\n",
        "*   Maximum of movies as well as TV shows are for matures only.\n",
        "\n"
      ],
      "metadata": {
        "id": "RQFYb8A8R2S6"
      }
    },
    {
      "cell_type": "code",
      "source": [],
      "metadata": {
        "id": "hYlefOnTmbuC"
      },
      "execution_count": 24,
      "outputs": []
    },
    {
      "cell_type": "code",
      "source": [],
      "metadata": {
        "id": "SpRpzdP8mbrr"
      },
      "execution_count": 24,
      "outputs": []
    },
    {
      "cell_type": "code",
      "source": [],
      "metadata": {
        "id": "t4yQtEW8mbpf"
      },
      "execution_count": 24,
      "outputs": []
    },
    {
      "cell_type": "code",
      "execution_count": 24,
      "metadata": {
        "id": "2x0Otw7jlFTy"
      },
      "outputs": [],
      "source": []
    }
  ]
}